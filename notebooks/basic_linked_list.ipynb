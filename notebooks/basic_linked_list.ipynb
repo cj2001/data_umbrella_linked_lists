{
 "cells": [
  {
   "cell_type": "code",
   "execution_count": 30,
   "metadata": {},
   "outputs": [],
   "source": [
    "class Node:\n",
    "    def __init__(self, value=0, next=None):\n",
    "        self.head = None\n",
    "        self.value = value\n",
    "        self.next = next"
   ]
  },
  {
   "cell_type": "code",
   "execution_count": 76,
   "metadata": {},
   "outputs": [],
   "source": [
    "class LinkedList:\n",
    "    def __init__(self):\n",
    "        self.head = None\n",
    "    \n",
    "    def print(self):\n",
    "        printval = self.head\n",
    "        while printval is not None:\n",
    "            print(printval.value)\n",
    "            printval = printval.next"
   ]
  },
  {
   "cell_type": "code",
   "execution_count": 77,
   "metadata": {},
   "outputs": [
    {
     "name": "stdout",
     "output_type": "stream",
     "text": [
      "Mon\n",
      "Tue\n",
      "Wed\n"
     ]
    }
   ],
   "source": [
    "llist = LinkedList()\n",
    "\n",
    "llist.head = Node('Mon')\n",
    "node2 = Node('Tue')\n",
    "node3 = Node('Wed')\n",
    "\n",
    "llist.head.next = node2\n",
    "node2.next = node3\n",
    "\n",
    "llist.print()"
   ]
  },
  {
   "cell_type": "code",
   "execution_count": 78,
   "metadata": {},
   "outputs": [],
   "source": [
    "class LinkedList2:\n",
    "    def __init__(self):\n",
    "        self.head = None\n",
    "    \n",
    "    def print(self):\n",
    "        printval = self.head\n",
    "        while printval is not None:\n",
    "            print(printval.value)\n",
    "            printval = printval.next\n",
    "    \n",
    "    def insert_at_beginning(self, data):\n",
    "        new_node = Node(data, self.head)\n",
    "        self.head = new_node"
   ]
  },
  {
   "cell_type": "code",
   "execution_count": 79,
   "metadata": {},
   "outputs": [
    {
     "name": "stdout",
     "output_type": "stream",
     "text": [
      "Sun\n",
      "Mon\n",
      "Tue\n",
      "Wed\n"
     ]
    }
   ],
   "source": [
    "llist2 = LinkedList2()\n",
    "\n",
    "llist2.head = Node('Mon')\n",
    "node2 = Node('Tue')\n",
    "node3 = Node('Wed')\n",
    "\n",
    "llist2.head.next = node2\n",
    "node2.next = node3\n",
    "\n",
    "llist2.insert_at_beginning('Sun')\n",
    "llist2.print()"
   ]
  },
  {
   "cell_type": "code",
   "execution_count": 80,
   "metadata": {},
   "outputs": [],
   "source": [
    "class LinkedList3:\n",
    "    def __init__(self):\n",
    "        self.head = None\n",
    "    \n",
    "    def print(self):\n",
    "        printval = self.head\n",
    "        while printval is not None:\n",
    "            print(printval.value)\n",
    "            printval = printval.next\n",
    "    \n",
    "    def insert_at_beginning(self, data):\n",
    "        new_node = Node(data, self.head)\n",
    "        self.head = new_node\n",
    "    \n",
    "    def insert_at_end(self, data):\n",
    "        if self.head is None:\n",
    "            self.head = Node(data, None)\n",
    "            return\n",
    "        \n",
    "        itr = self.head\n",
    "        while itr.next:\n",
    "            itr = itr.next\n",
    "        itr.next = Node(data, None)"
   ]
  },
  {
   "cell_type": "code",
   "execution_count": 81,
   "metadata": {},
   "outputs": [
    {
     "name": "stdout",
     "output_type": "stream",
     "text": [
      "Sun\n",
      "Mon\n",
      "Tue\n",
      "Wed\n",
      "Thurs\n"
     ]
    }
   ],
   "source": [
    "llist3 = LinkedList3()\n",
    "\n",
    "llist3.head = Node('Sun')\n",
    "node2 = Node('Mon')\n",
    "node3 = Node('Tue')\n",
    "node4 = Node('Wed')\n",
    "\n",
    "llist3.head.next = node2\n",
    "node2.next = node3\n",
    "node3.next = node4\n",
    "\n",
    "llist3.insert_at_end('Thurs')\n",
    "llist3.print()"
   ]
  },
  {
   "cell_type": "code",
   "execution_count": 82,
   "metadata": {},
   "outputs": [],
   "source": [
    "class LinkedList4:\n",
    "    def __init__(self):\n",
    "        self.head = None\n",
    "    \n",
    "    def print(self):\n",
    "        printval = self.head\n",
    "        while printval is not None:\n",
    "            print(printval.value)\n",
    "            printval = printval.next\n",
    "    \n",
    "    def insert_at_beginning(self, data):\n",
    "        new_node = Node(data, self.head)\n",
    "        self.head = new_node\n",
    "    \n",
    "    def insert_at_end(self, data):\n",
    "        if self.head is None:\n",
    "            self.head = Node(data, None)\n",
    "            return\n",
    "        \n",
    "        itr = self.head\n",
    "        while itr.next:\n",
    "            itr = itr.next\n",
    "        itr.next = Node(data, None)\n",
    "    \n",
    "    def insert_in_between(self, middle_node, data):\n",
    "        if middle_node is None:\n",
    "            print('The mentioned node is absent')\n",
    "            return\n",
    "        \n",
    "        new_node = Node(data, middle_node.next)\n",
    "        middle_node.next = new_node\n",
    "        return\n",
    "\n"
   ]
  },
  {
   "cell_type": "code",
   "execution_count": 83,
   "metadata": {},
   "outputs": [
    {
     "name": "stdout",
     "output_type": "stream",
     "text": [
      "Sun\n",
      "Mon\n",
      "Tue\n",
      "I wish it was Friday!\n",
      "Wed\n",
      "Thurs\n"
     ]
    }
   ],
   "source": [
    "llist4 = LinkedList4()\n",
    "\n",
    "llist4.head = Node('Sun')\n",
    "node2 = Node('Mon')\n",
    "node3 = Node('Tue')\n",
    "node4 = Node('Wed')\n",
    "node5 = Node('Thurs')\n",
    "\n",
    "llist4.head.next = node2\n",
    "node2.next = node3\n",
    "node3.next = node4\n",
    "node4.next = node5\n",
    "\n",
    "llist4.insert_in_between(node3, 'I wish it was Friday!')\n",
    "llist4.print()"
   ]
  },
  {
   "cell_type": "code",
   "execution_count": 84,
   "metadata": {},
   "outputs": [],
   "source": [
    "class LinkedList5:\n",
    "    def __init__(self):\n",
    "        self.head = None\n",
    "    \n",
    "    def print(self):\n",
    "        printval = self.head\n",
    "        while printval is not None:\n",
    "            print(printval.value)\n",
    "            printval = printval.next\n",
    "    \n",
    "    def insert_at_beginning(self, data):\n",
    "        new_node = Node(data, self.head)\n",
    "        self.head = new_node\n",
    "    \n",
    "    def insert_at_end(self, data):\n",
    "        if self.head is None:\n",
    "            self.head = Node(data, None)\n",
    "            return\n",
    "        \n",
    "        itr = self.head\n",
    "        while itr.next:\n",
    "            itr = itr.next\n",
    "        itr.next = Node(data, None)\n",
    "    \n",
    "    def insert_in_between(self, middle_node, data):\n",
    "        if middle_node is None:\n",
    "            print('The mentioned node is absent')\n",
    "            return\n",
    "        \n",
    "        new_node = Node(data, middle_node.next)\n",
    "        middle_node.next = new_node\n",
    "        return\n",
    "    \n",
    "    def delete_node(self, remove_node):\n",
    "        head_val = self.head\n",
    "\n",
    "        if head_val == None:\n",
    "            return\n",
    "        \n",
    "        if head_val is not None:\n",
    "            if head_val.value == remove_node:\n",
    "                self.head = head_val.next\n",
    "                head_val = None\n",
    "                return\n",
    "        \n",
    "        while head_val is not None:\n",
    "            if head_val.value == remove_node:\n",
    "                break\n",
    "            prev = head_val\n",
    "            head_val = head_val.next\n",
    "        \n",
    "        prev.next = head_val.next\n",
    "        head_val = None\n"
   ]
  },
  {
   "cell_type": "code",
   "execution_count": 85,
   "metadata": {},
   "outputs": [
    {
     "name": "stdout",
     "output_type": "stream",
     "text": [
      "Sun\n",
      "Mon\n",
      "Tue\n",
      "I wish it was Friday!\n",
      "Wed\n",
      "Thurs\n",
      "Fri\n",
      "=====================\n",
      "Sun\n",
      "Mon\n",
      "Tue\n",
      "I wish it was Friday!\n",
      "Fri\n"
     ]
    }
   ],
   "source": [
    "llist5 = LinkedList5()\n",
    "\n",
    "llist5.head = Node('Sun')\n",
    "node2 = Node('Mon')\n",
    "node3 = Node('Tue')\n",
    "node4 = Node('Wed')\n",
    "node5 = Node('Thurs')\n",
    "node6 = Node('Fri')\n",
    "\n",
    "llist5.head.next = node2\n",
    "node2.next = node3\n",
    "node3.next = node4\n",
    "node4.next = node5\n",
    "node5.next = node6\n",
    "llist5.insert_in_between(node3, 'I wish it was Friday!')\n",
    "llist5.print()\n",
    "print('=====================')\n",
    "\n",
    "llist5.delete_node('Wed')\n",
    "llist5.delete_node('Thurs')\n",
    "llist5.print()"
   ]
  },
  {
   "cell_type": "code",
   "execution_count": null,
   "metadata": {},
   "outputs": [],
   "source": []
  }
 ],
 "metadata": {
  "interpreter": {
   "hash": "31f2aee4e71d21fbe5cf8b01ff0e069b9275f58929596ceb00d14d90e3e16cd6"
  },
  "kernelspec": {
   "display_name": "Python 3.9.7 64-bit",
   "language": "python",
   "name": "python3"
  },
  "language_info": {
   "codemirror_mode": {
    "name": "ipython",
    "version": 3
   },
   "file_extension": ".py",
   "mimetype": "text/x-python",
   "name": "python",
   "nbconvert_exporter": "python",
   "pygments_lexer": "ipython3",
   "version": "3.9.7"
  },
  "orig_nbformat": 4
 },
 "nbformat": 4,
 "nbformat_minor": 2
}
