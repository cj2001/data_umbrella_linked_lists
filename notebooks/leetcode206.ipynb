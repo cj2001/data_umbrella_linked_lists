{
 "cells": [
  {
   "cell_type": "markdown",
   "metadata": {},
   "source": [
    "## [LeetCode Problem #206: Reverse Linked List](https://leetcode.com/problems/reverse-linked-list/)\n",
    "\n",
    "Given the head of a singly linked list, reverse the list, and return the reversed list.\n",
    "\n",
    "### Example 1:\n",
    "\n",
    "    Input: head = [1,2,3,4,5]\n",
    "    Output: [5,4,3,2,1]\n",
    "\n",
    "### Example 2:\n",
    "\n",
    "    Input: head = [1,2]\n",
    "    Output: [2,1]\n",
    "\n",
    "### Example 3:\n",
    "\n",
    "    Input: head = []\n",
    "    Output: []\n",
    "\n",
    "### Contraints:\n",
    "\n",
    "The number of nodes in the list is the range [0, 5000].\n",
    "-5000 <= Node.val <= 5000\n"
   ]
  },
  {
   "cell_type": "code",
   "execution_count": 2,
   "metadata": {},
   "outputs": [],
   "source": [
    "class ListNode:\n",
    "    def __init__(self, value=0, next=None):\n",
    "        self.value = value\n",
    "        self.next = next"
   ]
  },
  {
   "cell_type": "code",
   "execution_count": 11,
   "metadata": {},
   "outputs": [],
   "source": [
    "def reverseList(head):\n",
    "    # This is the iterative solution to this problem.  There is also a recurive solution.\n",
    "    # The actual LeetCode problem asks if you can solve it both ways.\n",
    "    \n",
    "    prev, curr = None, head\n",
    "\n",
    "    while curr:\n",
    "        nxt = curr.next     # temporary variable to get next pointer\n",
    "        curr.next = prev    # reverse the pointers\n",
    "        prev = curr         # shift pointers\n",
    "        curr = nxt          # but note that this is prev before, so this is a temp value\n",
    "\n",
    "        #print(prev.data)\n",
    "\n",
    "    return prev             # prev eventually becomes the new head of the linked list  "
   ]
  },
  {
   "cell_type": "code",
   "execution_count": 8,
   "metadata": {},
   "outputs": [],
   "source": [
    "def print_ll(head):\n",
    "    itr = head\n",
    "    llstr = ''\n",
    "    while itr:\n",
    "        llstr += str(itr.value) + \"->\" if itr.next else str(itr.value)\n",
    "        itr = itr.next\n",
    "    print(llstr)"
   ]
  },
  {
   "cell_type": "code",
   "execution_count": 9,
   "metadata": {},
   "outputs": [
    {
     "name": "stdout",
     "output_type": "stream",
     "text": [
      "5->4->3->2->1\n"
     ]
    }
   ],
   "source": [
    "ll = ListNode(1)\n",
    "ll.next = ListNode(2)\n",
    "ll.next.next = ListNode(3)\n",
    "ll.next.next.next = ListNode(4)\n",
    "ll.next.next.next.next = ListNode(5)\n",
    "\n",
    "res = reverseList(head=ll)\n",
    "print_ll(res)"
   ]
  },
  {
   "cell_type": "markdown",
   "metadata": {},
   "source": [
    "### Complexity Analysis:\n",
    "\n",
    "Time complexity: O(n)\n",
    "\n",
    "Memory complexity: O(1)"
   ]
  },
  {
   "cell_type": "code",
   "execution_count": null,
   "metadata": {},
   "outputs": [],
   "source": []
  }
 ],
 "metadata": {
  "interpreter": {
   "hash": "31f2aee4e71d21fbe5cf8b01ff0e069b9275f58929596ceb00d14d90e3e16cd6"
  },
  "kernelspec": {
   "display_name": "Python 3.9.7 64-bit",
   "language": "python",
   "name": "python3"
  },
  "language_info": {
   "codemirror_mode": {
    "name": "ipython",
    "version": 3
   },
   "file_extension": ".py",
   "mimetype": "text/x-python",
   "name": "python",
   "nbconvert_exporter": "python",
   "pygments_lexer": "ipython3",
   "version": "3.9.7"
  },
  "orig_nbformat": 4
 },
 "nbformat": 4,
 "nbformat_minor": 2
}
