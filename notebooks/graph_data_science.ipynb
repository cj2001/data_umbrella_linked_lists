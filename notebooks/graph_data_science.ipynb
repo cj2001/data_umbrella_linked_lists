{
 "cells": [
  {
   "cell_type": "markdown",
   "id": "ff6c24e6-af22-4d6d-aacb-d5e236f086ff",
   "metadata": {},
   "source": [
    "# Introduction\n",
    "\n",
    "This notebook walks you through how to solve a basic data science problem using the [Graph Data Science Library](https://neo4j.com/developer/graph-data-science/).  We likely will not get a chance to go through it during this session, but this is provided should you wish to do some problems on your own."
   ]
  },
  {
   "cell_type": "code",
   "execution_count": null,
   "id": "8b2fdcac",
   "metadata": {},
   "outputs": [],
   "source": [
    "# You must run this line if running it from Google Colab\n",
    "\n",
    "!pip install neo4j"
   ]
  },
  {
   "cell_type": "code",
   "execution_count": 1,
   "id": "24273692-1ab8-4aeb-b43a-58a4c891d6db",
   "metadata": {},
   "outputs": [],
   "source": [
    "import pandas as pd\n",
    "from neo4j import GraphDatabase"
   ]
  },
  {
   "cell_type": "code",
   "execution_count": 2,
   "id": "8e237ce3-db7a-419c-8284-33585140a06d",
   "metadata": {},
   "outputs": [],
   "source": [
    "class Neo4jConnection:\n",
    "    \n",
    "    def __init__(self, uri, user, pwd):\n",
    "        self.__uri = uri\n",
    "        self.__user = user\n",
    "        self.__pwd = pwd\n",
    "        self.__driver = None\n",
    "        try:\n",
    "            self.__driver = GraphDatabase.driver(self.__uri, auth=(self.__user, self.__pwd))\n",
    "        except Exception as e:\n",
    "            print(\"Failed to create the driver:\", e)\n",
    "        \n",
    "    def close(self):\n",
    "        if self.__driver is not None:\n",
    "            self.__driver.close()\n",
    "        \n",
    "    def query(self, query, parameters=None, db=None):\n",
    "        assert self.__driver is not None, \"Driver not initialized!\"\n",
    "        session = None\n",
    "        response = None\n",
    "        try: \n",
    "            session = self.__driver.session(database=db) if db is not None else self.__driver.session() \n",
    "            response = list(session.run(query, parameters))\n",
    "        except Exception as e:\n",
    "            print(\"Query failed:\", e)\n",
    "        finally: \n",
    "            if session is not None:\n",
    "                session.close()\n",
    "        return response"
   ]
  },
  {
   "cell_type": "markdown",
   "id": "c9f16bc5-86ed-4fad-a723-6561c5024e5d",
   "metadata": {},
   "source": [
    "## How to make the connection\n",
    "\n",
    "From the Sandbox UI, select \"Connection Details\" and get the Bolt URL and password.  The user name is always `neo4j`."
   ]
  },
  {
   "cell_type": "code",
   "execution_count": 12,
   "id": "f4000198-8d74-496a-acbe-8094561fbe40",
   "metadata": {},
   "outputs": [
    {
     "name": "stdout",
     "output_type": "stream",
     "text": [
      "One way to get results back:  [<Record count=2642>]\n",
      "Another way:  2642\n"
     ]
    }
   ],
   "source": [
    "uri = ''\n",
    "pwd = ''\n",
    "\n",
    "conn = Neo4jConnection(uri=uri, user=\"neo4j\", pwd=pwd)\n",
    "result = conn.query('MATCH (n) RETURN COUNT(n) AS count')\n",
    "\n",
    "print('One way to get results back: ', result)\n",
    "print('Another way: ', result[0]['count'])"
   ]
  },
  {
   "cell_type": "markdown",
   "id": "d50601b8-120d-4e2d-8d67-736cc2876983",
   "metadata": {},
   "source": [
    "## Graph Data Science Library\n",
    "\n",
    "From here we will be using the Neo4j [Graph Data Science Library](https://neo4j.com/developer/graph-data-science/).  You are encouraged to consult the [API docs](https://neo4j.com/docs/graph-data-science/current/) on how to use it.  However, the general approach is:\n",
    "\n",
    "1. Create a graph projection\n",
    "2. Run a graph algorithm on it\n",
    "\n",
    "We will demonstrate this to do the classical centrality calculation of [PageRank](https://en.wikipedia.org/wiki/PageRank).\n",
    "\n",
    "First, we will create the graph projection called `people` containing all `Person` nodes and all (`*`) relationships between them..."
   ]
  },
  {
   "cell_type": "code",
   "execution_count": 13,
   "id": "0b38ba83-c357-4957-adb8-b4b14007549e",
   "metadata": {},
   "outputs": [
    {
     "data": {
      "text/plain": [
       "[<Record nodeProjection={'Person': {'label': 'Person', 'properties': {}}} relationshipProjection={'__ALL__': {'orientation': 'NATURAL', 'aggregation': 'DEFAULT', 'type': '*', 'properties': {}}} graphName='people' nodeCount=2166 relationshipCount=8170 createMillis=346>]"
      ]
     },
     "execution_count": 13,
     "metadata": {},
     "output_type": "execute_result"
    }
   ],
   "source": [
    "query = \"\"\"CALL gds.graph.create('people', 'Person', '*')\"\"\"\n",
    "conn.query(query)"
   ]
  },
  {
   "cell_type": "markdown",
   "id": "121f9cfa-4d8f-4af3-b310-282b9eb04749",
   "metadata": {},
   "source": [
    "### And now that we have a graph projection, we can run PageRank on it to find out who is the most influential person in Game of Thrones and write the calculated value back as a property to each node..."
   ]
  },
  {
   "cell_type": "code",
   "execution_count": 14,
   "id": "4de3218d-82f6-416b-980a-73c1996b3541",
   "metadata": {},
   "outputs": [
    {
     "data": {
      "text/plain": [
       "[<Record writeMillis=1123 nodePropertiesWritten=2166 ranIterations=20 didConverge=False centralityDistribution={'p99': 1.8554067611694336, 'min': 0.14999961853027344, 'max': 14.432188987731934, 'mean': 0.2852511044904686, 'p90': 0.5038976669311523, 'p50': 0.14999961853027344, 'p999': 8.362792015075684, 'p95': 0.9612417221069336, 'p75': 0.19827938079833984} postProcessingMillis=168 createMillis=0 computeMillis=429 configuration={'maxIterations': 20, 'writeConcurrency': 4, 'relationshipWeightProperty': None, 'cacheWeights': False, 'concurrency': 4, 'sourceNodes': [], 'writeProperty': 'pagerank', 'scaler': 'NONE', 'nodeLabels': ['*'], 'sudo': False, 'dampingFactor': 0.85, 'relationshipTypes': ['*'], 'tolerance': 1e-07, 'username': None}>]"
      ]
     },
     "execution_count": 14,
     "metadata": {},
     "output_type": "execute_result"
    }
   ],
   "source": [
    "pagerank_query = \"\"\"CALL gds.pageRank.write(\n",
    "                        'people',\n",
    "                        { writeProperty: 'pagerank' }\n",
    "                    )\n",
    "                    \"\"\"\n",
    "conn.query(pagerank_query)"
   ]
  },
  {
   "cell_type": "markdown",
   "id": "7296a56c-db7a-4219-a5e4-aa663f1afc8d",
   "metadata": {},
   "source": [
    "### And now let's explore the results, imported here as a Pandas dataframe..."
   ]
  },
  {
   "cell_type": "code",
   "execution_count": 15,
   "id": "7e1d8ed9-25d5-4f6d-afee-8ee3e92642d3",
   "metadata": {},
   "outputs": [
    {
     "data": {
      "text/html": [
       "<div>\n",
       "<style scoped>\n",
       "    .dataframe tbody tr th:only-of-type {\n",
       "        vertical-align: middle;\n",
       "    }\n",
       "\n",
       "    .dataframe tbody tr th {\n",
       "        vertical-align: top;\n",
       "    }\n",
       "\n",
       "    .dataframe thead th {\n",
       "        text-align: right;\n",
       "    }\n",
       "</style>\n",
       "<table border=\"1\" class=\"dataframe\">\n",
       "  <thead>\n",
       "    <tr style=\"text-align: right;\">\n",
       "      <th></th>\n",
       "      <th>p.name</th>\n",
       "      <th>p.pagerank</th>\n",
       "    </tr>\n",
       "  </thead>\n",
       "  <tbody>\n",
       "    <tr>\n",
       "      <th>0</th>\n",
       "      <td>Tyrion Lannister</td>\n",
       "      <td>14.432143</td>\n",
       "    </tr>\n",
       "    <tr>\n",
       "      <th>1</th>\n",
       "      <td>Stannis Baratheon</td>\n",
       "      <td>8.389708</td>\n",
       "    </tr>\n",
       "    <tr>\n",
       "      <th>2</th>\n",
       "      <td>Tywin Lannister</td>\n",
       "      <td>8.362748</td>\n",
       "    </tr>\n",
       "    <tr>\n",
       "      <th>3</th>\n",
       "      <td>Varys</td>\n",
       "      <td>7.134114</td>\n",
       "    </tr>\n",
       "    <tr>\n",
       "      <th>4</th>\n",
       "      <td>Yandry</td>\n",
       "      <td>5.493203</td>\n",
       "    </tr>\n",
       "    <tr>\n",
       "      <th>5</th>\n",
       "      <td>Ysilla</td>\n",
       "      <td>5.468612</td>\n",
       "    </tr>\n",
       "    <tr>\n",
       "      <th>6</th>\n",
       "      <td>Theon Greyjoy</td>\n",
       "      <td>4.745098</td>\n",
       "    </tr>\n",
       "    <tr>\n",
       "      <th>7</th>\n",
       "      <td>Walder Frey</td>\n",
       "      <td>4.525921</td>\n",
       "    </tr>\n",
       "    <tr>\n",
       "      <th>8</th>\n",
       "      <td>Sansa Stark</td>\n",
       "      <td>4.489441</td>\n",
       "    </tr>\n",
       "    <tr>\n",
       "      <th>9</th>\n",
       "      <td>Perra Royce</td>\n",
       "      <td>3.997016</td>\n",
       "    </tr>\n",
       "  </tbody>\n",
       "</table>\n",
       "</div>"
      ],
      "text/plain": [
       "              p.name  p.pagerank\n",
       "0   Tyrion Lannister   14.432143\n",
       "1  Stannis Baratheon    8.389708\n",
       "2    Tywin Lannister    8.362748\n",
       "3              Varys    7.134114\n",
       "4             Yandry    5.493203\n",
       "5             Ysilla    5.468612\n",
       "6      Theon Greyjoy    4.745098\n",
       "7        Walder Frey    4.525921\n",
       "8        Sansa Stark    4.489441\n",
       "9        Perra Royce    3.997016"
      ]
     },
     "execution_count": 15,
     "metadata": {},
     "output_type": "execute_result"
    }
   ],
   "source": [
    "query = \"\"\"MATCH (p:Person)\n",
    "           RETURN p.name, p.pagerank\n",
    "           ORDER BY p.pagerank DESC\n",
    "           LIMIT 10\n",
    "           \"\"\"\n",
    "\n",
    "top_people_df = pd.DataFrame([dict(_) for _ in conn.query(query)])\n",
    "top_people_df.head(10)"
   ]
  },
  {
   "cell_type": "markdown",
   "id": "6eceae13-624a-4d0f-ae98-01b071fa569f",
   "metadata": {},
   "source": [
    "### If you know the show, those results look strange.\n",
    "\n",
    "This could be because we included absolutely every relationship type.  So some of these characters, while not important to the story, interact with important characters, perhaps frequently.  Let's limit our interactions to the first book and see what happens.  Do do this, we will repeat the above 2 steps, using a new graph projection."
   ]
  },
  {
   "cell_type": "code",
   "execution_count": 16,
   "id": "9869a38a-69e9-4142-a546-284608c33768",
   "metadata": {},
   "outputs": [
    {
     "data": {
      "text/html": [
       "<div>\n",
       "<style scoped>\n",
       "    .dataframe tbody tr th:only-of-type {\n",
       "        vertical-align: middle;\n",
       "    }\n",
       "\n",
       "    .dataframe tbody tr th {\n",
       "        vertical-align: top;\n",
       "    }\n",
       "\n",
       "    .dataframe thead th {\n",
       "        text-align: right;\n",
       "    }\n",
       "</style>\n",
       "<table border=\"1\" class=\"dataframe\">\n",
       "  <thead>\n",
       "    <tr style=\"text-align: right;\">\n",
       "      <th></th>\n",
       "      <th>p.name</th>\n",
       "      <th>p.pagerank_1</th>\n",
       "    </tr>\n",
       "  </thead>\n",
       "  <tbody>\n",
       "    <tr>\n",
       "      <th>0</th>\n",
       "      <td>Tyrion Lannister</td>\n",
       "      <td>4.369831</td>\n",
       "    </tr>\n",
       "    <tr>\n",
       "      <th>1</th>\n",
       "      <td>Varys</td>\n",
       "      <td>3.544865</td>\n",
       "    </tr>\n",
       "    <tr>\n",
       "      <th>2</th>\n",
       "      <td>Tywin Lannister</td>\n",
       "      <td>2.984199</td>\n",
       "    </tr>\n",
       "    <tr>\n",
       "      <th>3</th>\n",
       "      <td>Robert Baratheon</td>\n",
       "      <td>2.074483</td>\n",
       "    </tr>\n",
       "    <tr>\n",
       "      <th>4</th>\n",
       "      <td>Sansa Stark</td>\n",
       "      <td>1.933146</td>\n",
       "    </tr>\n",
       "    <tr>\n",
       "      <th>5</th>\n",
       "      <td>Walder Frey</td>\n",
       "      <td>1.883858</td>\n",
       "    </tr>\n",
       "    <tr>\n",
       "      <th>6</th>\n",
       "      <td>Robb Stark</td>\n",
       "      <td>1.301297</td>\n",
       "    </tr>\n",
       "    <tr>\n",
       "      <th>7</th>\n",
       "      <td>Willis Wode</td>\n",
       "      <td>1.209997</td>\n",
       "    </tr>\n",
       "    <tr>\n",
       "      <th>8</th>\n",
       "      <td>Jon Snow</td>\n",
       "      <td>1.187182</td>\n",
       "    </tr>\n",
       "    <tr>\n",
       "      <th>9</th>\n",
       "      <td>Vardis Egen</td>\n",
       "      <td>1.181491</td>\n",
       "    </tr>\n",
       "  </tbody>\n",
       "</table>\n",
       "</div>"
      ],
      "text/plain": [
       "             p.name  p.pagerank_1\n",
       "0  Tyrion Lannister      4.369831\n",
       "1             Varys      3.544865\n",
       "2   Tywin Lannister      2.984199\n",
       "3  Robert Baratheon      2.074483\n",
       "4       Sansa Stark      1.933146\n",
       "5       Walder Frey      1.883858\n",
       "6        Robb Stark      1.301297\n",
       "7       Willis Wode      1.209997\n",
       "8          Jon Snow      1.187182\n",
       "9       Vardis Egen      1.181491"
      ]
     },
     "execution_count": 16,
     "metadata": {},
     "output_type": "execute_result"
    }
   ],
   "source": [
    "projection_query = \"\"\"CALL gds.graph.create('people_1', 'Person', 'INTERACTS_1')\"\"\"\n",
    "\n",
    "pagerank_query = \"\"\"CALL gds.pageRank.write(\n",
    "                        'people_1',\n",
    "                        { writeProperty: 'pagerank_1' }\n",
    "                    )\n",
    "                    \"\"\"\n",
    "\n",
    "conn.query(projection_query)\n",
    "conn.query(pagerank_query)\n",
    "\n",
    "query = \"\"\"MATCH (p:Person)\n",
    "           RETURN p.name, p.pagerank_1\n",
    "           ORDER BY p.pagerank_1 DESC\n",
    "           LIMIT 10\n",
    "           \"\"\"\n",
    "\n",
    "top_people_df_1 = pd.DataFrame([dict(_) for _ in conn.query(query)])\n",
    "top_people_df_1.head(10)"
   ]
  },
  {
   "cell_type": "code",
   "execution_count": null,
   "id": "621ac4db-21be-422b-bd19-d0b32618e7f7",
   "metadata": {},
   "outputs": [],
   "source": []
  }
 ],
 "metadata": {
  "kernelspec": {
   "display_name": "Python 3 (ipykernel)",
   "language": "python",
   "name": "python3"
  },
  "language_info": {
   "codemirror_mode": {
    "name": "ipython",
    "version": 3
   },
   "file_extension": ".py",
   "mimetype": "text/x-python",
   "name": "python",
   "nbconvert_exporter": "python",
   "pygments_lexer": "ipython3",
   "version": "3.9.7"
  }
 },
 "nbformat": 4,
 "nbformat_minor": 5
}
